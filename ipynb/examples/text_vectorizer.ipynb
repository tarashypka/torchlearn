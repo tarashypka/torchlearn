{
 "cells": [
  {
   "cell_type": "code",
   "execution_count": 10,
   "metadata": {},
   "outputs": [],
   "source": [
    "import numpy as np"
   ]
  },
  {
   "cell_type": "markdown",
   "metadata": {},
   "source": [
    "### TextVectorizer"
   ]
  },
  {
   "cell_type": "code",
   "execution_count": 11,
   "metadata": {},
   "outputs": [
    {
     "data": {
      "text/plain": [
       "array([[[0.3939261 , 0.14042957, 0.46650582, 0.20018323, 0.51318451],\n",
       "        [0.3939261 , 0.14042957, 0.46650582, 0.20018323, 0.51318451]],\n",
       "\n",
       "       [[0.3939261 , 0.14042957, 0.46650582, 0.20018323, 0.51318451],\n",
       "        [0.3939261 , 0.14042957, 0.46650582, 0.20018323, 0.51318451]],\n",
       "\n",
       "       [[0.41779888, 0.38863714, 0.11742472, 0.32865635, 0.30406455],\n",
       "        [0.20000891, 0.7648949 , 0.67816115, 0.66608347, 0.05318318]],\n",
       "\n",
       "       [[0.34978958, 0.81927847, 0.39596494, 0.13085802, 0.39268766],\n",
       "        [0.47832022, 0.86367572, 0.56379267, 0.32750457, 0.44034688]]])"
      ]
     },
     "execution_count": 11,
     "metadata": {},
     "output_type": "execute_result"
    }
   ],
   "source": [
    "from torchlearn.vectorizer import TextVectorizer\n",
    "\n",
    "types = ['a', 'b', 'c']\n",
    "embeddings = np.random.random(size=(len(types), 5))\n",
    "v = TextVectorizer(types=types, embeddings=embeddings, seq_len=4)\n",
    "texts = ['a b', 'c d']\n",
    "vectors = v.transform(texts)\n",
    "vectors"
   ]
  }
 ],
 "metadata": {
  "kernelspec": {
   "display_name": "Python 3",
   "language": "python",
   "name": "python3"
  },
  "language_info": {
   "codemirror_mode": {
    "name": "ipython",
    "version": 3
   },
   "file_extension": ".py",
   "mimetype": "text/x-python",
   "name": "python",
   "nbconvert_exporter": "python",
   "pygments_lexer": "ipython3",
   "version": "3.6.5"
  }
 },
 "nbformat": 4,
 "nbformat_minor": 2
}
